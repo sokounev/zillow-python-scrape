{
 "cells": [
  {
   "cell_type": "code",
   "execution_count": 1,
   "id": "473f4f28",
   "metadata": {},
   "outputs": [],
   "source": [
    "import requests\n",
    "from bs4 import BeautifulSoup\n",
    "from datetime import date\n",
    "import csv\n",
    "import os\n",
    "import json\n",
    "import urllib.request\n",
    "import pandas as pd\n",
    "from datetime import date\n",
    "\n",
    "headers = {\n",
    "    'accept': '*/*',\n",
    "    'content-type': 'text/html;charset=UTF-8',\n",
    "    'content-encoding': 'gzip',\n",
    "    'origin': 'www.zillow.com',\n",
    "    'User-Agent': 'Mozilla/5.0 (Macintosh; Intel Mac OS X 11_2_3) AppleWebKit/537.36 (KHTML, like Gecko) Chrome/89.0.4389.90 Safari/537.36'\n",
    "}"
   ]
  },
  {
   "cell_type": "code",
   "execution_count": 2,
   "id": "6783ee6f",
   "metadata": {},
   "outputs": [],
   "source": [
    "num_listings = 5\n",
    "\n",
    "rental = True\n",
    "\n",
    "address = []\n",
    "price = []\n",
    "h_link = []\n",
    "\n",
    "date_today = date.today()\n",
    "\n",
    "count = 1\n",
    "if rental == True:\n",
    "    url = 'https://www.zillow.com/manhattan-new-york-ny/rentals/?searchQueryState=%7B%22pagination%22%3A%7B%7D%2C%22usersSearchTerm%22%3A%22Manhattan%2C%20New%20York%2C%20NY%22%2C%22mapBounds%22%3A%7B%22west%22%3A-74.2486743725702%2C%22east%22%3A-73.70897100342958%2C%22south%22%3A40.619924491125246%2C%22north%22%3A40.9412459041428%7D%2C%22regionSelection%22%3A%5B%7B%22regionId%22%3A12530%2C%22regionType%22%3A17%7D%5D%2C%22isMapVisible%22%3Atrue%2C%22filterState%22%3A%7B%22ah%22%3A%7B%22value%22%3Atrue%7D%2C%22fr%22%3A%7B%22value%22%3Atrue%7D%2C%22fsba%22%3A%7B%22value%22%3Afalse%7D%2C%22fsbo%22%3A%7B%22value%22%3Afalse%7D%2C%22nc%22%3A%7B%22value%22%3Afalse%7D%2C%22cmsn%22%3A%7B%22value%22%3Afalse%7D%2C%22auc%22%3A%7B%22value%22%3Afalse%7D%2C%22fore%22%3A%7B%22value%22%3Afalse%7D%7D%2C%22isListVisible%22%3Atrue%2C%22mapZoom%22%3A11%7D'.format(count)\n",
    "else:\n",
    "    url = 'https://www.zillow.com/manhattan-new-york-ny-10023/?searchQueryState=%7B%22pagination%22%3A%7B%7D%2C%22usersSearchTerm%22%3A%2210023%22%2C%22mapBounds%22%3A%7B%22west%22%3A-73.99856123028565%2C%22east%22%3A-73.96482976971436%2C%22south%22%3A40.76676097857653%2C%22north%22%3A40.7868447756317%7D%2C%22regionSelection%22%3A%5B%7B%22regionId%22%3A61637%2C%22regionType%22%3A7%7D%5D%2C%22isMapVisible%22%3Atrue%2C%22filterState%22%3A%7B%22sort%22%3A%7B%22value%22%3A%22pricea%22%7D%2C%22ah%22%3A%7B%22value%22%3Atrue%7D%7D%2C%22isListVisible%22%3Atrue%2C%22mapZoom%22%3A15%7D'.format(count)\n",
    "\n",
    "r = requests.get(url, headers=headers)\n",
    "\n",
    "soup = BeautifulSoup(r.content, 'html.parser')\n",
    "\n",
    "# number of listing crawled\n",
    "crawled_listing = 0\n",
    "\n",
    "while num_listings > crawled_listing:\n",
    "    \n",
    "    for s1 in soup.find_all('div', {'class':\"list-card-info\"}):\n",
    "\n",
    "        # address\n",
    "        try:\n",
    "            address.append(s1.find('address', {'class':'list-card-addr'}).text)\n",
    "        except Exception:\n",
    "            address.append('N/A')\n",
    "        # price\n",
    "        try:\n",
    "            price.append(s1.find('div', {'class':\"list-card-price\"}).text)\n",
    "        except Exception:\n",
    "            price.append('N/A')\n",
    "       \n",
    "        try:\n",
    "            h_link.append(s1.find('a', {'class':\"list-card-link list-card-link-top-margin\"}).get('href'))\n",
    "        except Exception:\n",
    "            h_link.append('N/A')\n",
    "            \n",
    "\n",
    "        crawled_listing += 1\n",
    "\n",
    "        # crawled number of listings, break out of loop\n",
    "        if num_listings == crawled_listing:\n",
    "            break\n",
    "\n",
    "    # update request link \n",
    "    count += 1\n",
    "    if rental == True:\n",
    "        url = 'https://www.zillow.com/manhattan-new-york-ny/rentals/?searchQueryState=%7B%22pagination%22%3A%7B%7D%2C%22usersSearchTerm%22%3A%22Manhattan%2C%20New%20York%2C%20NY%22%2C%22mapBounds%22%3A%7B%22west%22%3A-74.2486743725702%2C%22east%22%3A-73.70897100342958%2C%22south%22%3A40.619924491125246%2C%22north%22%3A40.9412459041428%7D%2C%22regionSelection%22%3A%5B%7B%22regionId%22%3A12530%2C%22regionType%22%3A17%7D%5D%2C%22isMapVisible%22%3Atrue%2C%22filterState%22%3A%7B%22ah%22%3A%7B%22value%22%3Atrue%7D%2C%22fr%22%3A%7B%22value%22%3Atrue%7D%2C%22fsba%22%3A%7B%22value%22%3Afalse%7D%2C%22fsbo%22%3A%7B%22value%22%3Afalse%7D%2C%22nc%22%3A%7B%22value%22%3Afalse%7D%2C%22cmsn%22%3A%7B%22value%22%3Afalse%7D%2C%22auc%22%3A%7B%22value%22%3Afalse%7D%2C%22fore%22%3A%7B%22value%22%3Afalse%7D%7D%2C%22isListVisible%22%3Atrue%2C%22mapZoom%22%3A11%7D'.format(count)\n",
    "    else:\n",
    "        url = 'https://www.zillow.com/manhattan-new-york-ny-10023/?searchQueryState=%7B%22pagination%22%3A%7B%7D%2C%22usersSearchTerm%22%3A%2210023%22%2C%22mapBounds%22%3A%7B%22west%22%3A-73.99856123028565%2C%22east%22%3A-73.96482976971436%2C%22south%22%3A40.76676097857653%2C%22north%22%3A40.7868447756317%7D%2C%22regionSelection%22%3A%5B%7B%22regionId%22%3A61637%2C%22regionType%22%3A7%7D%5D%2C%22isMapVisible%22%3Atrue%2C%22filterState%22%3A%7B%22sort%22%3A%7B%22value%22%3A%22pricea%22%7D%2C%22ah%22%3A%7B%22value%22%3Atrue%7D%7D%2C%22isListVisible%22%3Atrue%2C%22mapZoom%22%3A15%7D'.format(count)    \n",
    "    \n",
    "    r = requests.get(url, headers=headers)\n",
    "    soup = BeautifulSoup(r.content, 'html.parser')"
   ]
  },
  {
   "cell_type": "code",
   "execution_count": 4,
   "id": "1f03e244",
   "metadata": {},
   "outputs": [],
   "source": [
    "df = pd.DataFrame(list(zip(address, price)),\n",
    "                  columns = ['Address', 'Price'])"
   ]
  },
  {
   "cell_type": "code",
   "execution_count": 6,
   "id": "2e934761",
   "metadata": {},
   "outputs": [
    {
     "data": {
      "text/plain": [
       "['Address', 'Price']"
      ]
     },
     "execution_count": 6,
     "metadata": {},
     "output_type": "execute_result"
    }
   ],
   "source": [
    "list(df)"
   ]
  },
  {
   "cell_type": "code",
   "execution_count": 7,
   "id": "4dc5bff6",
   "metadata": {},
   "outputs": [
    {
     "ename": "TypeError",
     "evalue": "'type' object is not iterable",
     "output_type": "error",
     "traceback": [
      "\u001b[1;31m---------------------------------------------------------------------------\u001b[0m",
      "\u001b[1;31mTypeError\u001b[0m                                 Traceback (most recent call last)",
      "\u001b[1;32m<ipython-input-7-ed50eef665c8>\u001b[0m in \u001b[0;36m<module>\u001b[1;34m\u001b[0m\n\u001b[1;32m----> 1\u001b[1;33m \u001b[0mlist\u001b[0m\u001b[1;33m(\u001b[0m\u001b[0mpd\u001b[0m\u001b[1;33m.\u001b[0m\u001b[0mDataFrame\u001b[0m\u001b[1;33m)\u001b[0m\u001b[1;33m\u001b[0m\u001b[1;33m\u001b[0m\u001b[0m\n\u001b[0m",
      "\u001b[1;31mTypeError\u001b[0m: 'type' object is not iterable"
     ]
    }
   ],
   "source": [
    "list(pd.DataFrame)"
   ]
  },
  {
   "cell_type": "code",
   "execution_count": null,
   "id": "d39bd282",
   "metadata": {},
   "outputs": [],
   "source": []
  }
 ],
 "metadata": {
  "kernelspec": {
   "display_name": "Python 3",
   "language": "python",
   "name": "python3"
  },
  "language_info": {
   "codemirror_mode": {
    "name": "ipython",
    "version": 3
   },
   "file_extension": ".py",
   "mimetype": "text/x-python",
   "name": "python",
   "nbconvert_exporter": "python",
   "pygments_lexer": "ipython3",
   "version": "3.8.8"
  }
 },
 "nbformat": 4,
 "nbformat_minor": 5
}
